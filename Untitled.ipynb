{
 "cells": [
  {
   "cell_type": "code",
   "execution_count": 4,
   "id": "16b968c1-10cd-4560-8d66-9fe24b11c7a4",
   "metadata": {},
   "outputs": [
    {
     "name": "stdout",
     "output_type": "stream",
     "text": [
      "       0      1      2      3      4      5      6      7      8      9\n",
      "0   True  False  False  False  False  False  False  False  False  False\n",
      "1  False  False  False  False  False  False  False  False  False  False\n",
      "2  False  False  False  False  False  False  False  False  False  False\n",
      "3  False  False  False  False  False  False  False  False  False  False\n",
      "4  False  False  False  False  False  False  False  False  False  False\n",
      "5  False  False  False  False  False  False  False  False  False  False\n",
      "6  False  False  False  False  False  False  False  False  False  False\n",
      "7  False  False  False  False  False  False  False  False  False  False\n",
      "8  False  False  False  False  False  False  False  False  False  False\n",
      "9  False  False  False  False  False  False  False  False  False   True\n"
     ]
    }
   ],
   "source": [
    "import numpy as np\n",
    "import pandas as pd\n",
    "\n",
    "linear_arr = np.linspace(50, 60, 100)\n",
    "\n",
    "df = pd.DataFrame(linear_arr.reshape(10, 10))\n",
    "\n",
    "result = df % 5 == 0\n",
    "print(result)\n"
   ]
  },
  {
   "cell_type": "code",
   "execution_count": null,
   "id": "99ff63e3-0853-4d76-ad82-10c651dad3c6",
   "metadata": {},
   "outputs": [],
   "source": []
  },
  {
   "cell_type": "code",
   "execution_count": null,
   "id": "87e7571a-2c55-4730-ac6f-345f1212fee3",
   "metadata": {},
   "outputs": [],
   "source": []
  },
  {
   "cell_type": "code",
   "execution_count": null,
   "id": "6cf09d92-c831-4a01-ab1a-7873aa246696",
   "metadata": {},
   "outputs": [],
   "source": []
  }
 ],
 "metadata": {
  "kernelspec": {
   "display_name": "Python 3 (ipykernel)",
   "language": "python",
   "name": "python3"
  },
  "language_info": {
   "codemirror_mode": {
    "name": "ipython",
    "version": 3
   },
   "file_extension": ".py",
   "mimetype": "text/x-python",
   "name": "python",
   "nbconvert_exporter": "python",
   "pygments_lexer": "ipython3",
   "version": "3.12.4"
  }
 },
 "nbformat": 4,
 "nbformat_minor": 5
}
